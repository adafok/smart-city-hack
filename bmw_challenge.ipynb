{
 "cells": [
  {
   "cell_type": "code",
   "execution_count": 1,
   "metadata": {},
   "outputs": [],
   "source": [
    "import pandas as pd\n",
    "import matplotlib.pyplot as plt\n",
    "import matplotlib.cm as cm\n",
    "import numpy as np\n",
    "\n",
    "import warnings\n",
    "warnings.simplefilter(action='ignore', category=FutureWarning)\n",
    "\n",
    "%matplotlib inline\n",
    "\n",
    "pd.set_option('display.max_rows', 1000)"
   ]
  },
  {
   "cell_type": "code",
   "execution_count": 2,
   "metadata": {
    "scrolled": true
   },
   "outputs": [],
   "source": [
    "df = pd.read_json('Trips-Output.json')\n",
    "\n",
    "# data cleansing\n",
    "cleaned_df = df.copy()\n",
    "cleaned_df = cleaned_df.sort_values(by=['vin', 'start_time'])\n",
    "cleaned_df = cleaned_df.reset_index()\n",
    "del cleaned_df['index']\n",
    "\n",
    "# continous: to decide whether this is a continous event based on 2 cases:\n",
    "# 1) start and end locations are the same\n",
    "# 2) end location is equal to the next start location\n",
    "cleaned_df[\"continuous_x\"] = cleaned_df['start_x_ind'] - cleaned_df['end_x_ind'].shift(1)\n",
    "cleaned_df[\"continuous_y\"] = cleaned_df['start_y_ind'] - cleaned_df['end_y_ind'].shift(1)\n",
    "cleaned_df['continuous_x'] = cleaned_df['continuous_x'].fillna(999999999999999999)\n",
    "cleaned_df['continuous_y'] = cleaned_df['continuous_y'].fillna(999999999999999999)\n",
    "\n",
    "cleaned_df[\"continuous\"] = np.zeros(len(cleaned_df))\n",
    "cleaned_df.loc[(cleaned_df['continuous_x'] == 0) & (cleaned_df['continuous_y'] == 0), \"continuous\"] = 1\n",
    "\n",
    "del cleaned_df['continuous_x']\n",
    "del cleaned_df['continuous_y']\n",
    "\n",
    "# re-format data\n",
    "start_cols = [\n",
    "    'vin',\n",
    "    'start_time',\n",
    "    'start_x_ind',\n",
    "    'start_y_ind',\n",
    "    'start_soc_perc',\n",
    "    'start_soc_kwh',\n",
    "    'vehicle_type',\n",
    "    'continuous'\n",
    "]\n",
    "\n",
    "end_cols = [\n",
    "    'vin',\n",
    "    'end_time',\n",
    "    'end_x_ind',\n",
    "    'end_y_ind',\n",
    "    'end_soc_perc',\n",
    "    'end_soc_kwh',\n",
    "    'vehicle_type',\n",
    "]\n",
    "\n",
    "cols_name = [\n",
    "    'vin',\n",
    "    'time',\n",
    "    'x_ind',\n",
    "    'y_ind',\n",
    "    'soc_perc',\n",
    "    'soc_kwh',\n",
    "    'vehicle_type',\n",
    "    'continuous',\n",
    "    'start_engine'\n",
    "]\n",
    "\n",
    "start_df =  cleaned_df[start_cols].copy()\n",
    "start_df['start_engine'] = 1\n",
    "\n",
    "end_df =  cleaned_df[end_cols].copy()\n",
    "end_df['continuous'] = 1\n",
    "end_df['start_engine'] = 0\n",
    "\n",
    "\n",
    "start_df.columns = cols_name\n",
    "end_df.columns = cols_name\n",
    "\n",
    "cleaned_df = pd.concat([start_df, end_df])\n",
    "cleaned_df = cleaned_df.sort_values(by=['vin', 'time'])\n",
    "cleaned_df = cleaned_df.reset_index()\n",
    "del cleaned_df['index']\n",
    "\n",
    "# add diff cols\n",
    "\n",
    "cleaned_df['1st_record'] = cleaned_df['vin'].diff()\n",
    "cleaned_df.loc[0, '1st_record'] = 1\n",
    "\n",
    "invalid_diff_index = (cleaned_df['1st_record'] == 1) | (cleaned_df['continuous'] == 0)\n",
    "\n",
    "cleaned_df['perc_diff'] = cleaned_df['soc_perc'].diff()\n",
    "cleaned_df.loc[invalid_diff_index, 'perc_diff'] = np.nan\n",
    "\n",
    "cleaned_df['kwh_diff'] = cleaned_df['soc_kwh'].diff()\n",
    "cleaned_df.loc[invalid_diff_index, 'kwh_diff'] = np.nan\n",
    "\n",
    "cleaned_df['time_diff'] = cleaned_df['time'].diff()\n",
    "cleaned_df.loc[invalid_diff_index, 'time_diff'] = np.nan\n",
    "\n",
    "cleaned_df['xloc_diff'] = cleaned_df['x_ind'].diff()\n",
    "cleaned_df.loc[invalid_diff_index, 'xloc_diff'] = np.nan\n",
    "\n",
    "cleaned_df['yloc_diff'] = cleaned_df['y_ind'].diff()\n",
    "cleaned_df.loc[invalid_diff_index, 'yloc_diff'] = np.nan\n",
    "\n",
    "cleaned_df['loc'] = list(zip(cleaned_df.x_ind, cleaned_df.y_ind))\n",
    "cleaned_df['loc_diff'] = list(zip(cleaned_df.xloc_diff, cleaned_df.yloc_diff))\n",
    "\n",
    "cleaned_df['time_diff(hrs)'] = cleaned_df['time_diff'] / np.timedelta64(1, 'h')\n",
    "cleaned_df['avg_charging(kwh/hrs)'] = cleaned_df['kwh_diff'] / cleaned_df['time_diff(hrs)']\n",
    "\n",
    "del cleaned_df['x_ind']\n",
    "del cleaned_df['y_ind']\n",
    "del cleaned_df['xloc_diff']\n",
    "del cleaned_df['yloc_diff']\n",
    "del cleaned_df['time_diff']\n",
    "\n",
    "# remove unrealistic data: when perc increases(decreases), kwh should also increases(decreases)\n",
    "cleaned_df = cleaned_df[((cleaned_df[\"perc_diff\"] > 0) & (cleaned_df[\"kwh_diff\"] > 0)) |\n",
    "                        ((cleaned_df[\"perc_diff\"] < 0) & (cleaned_df[\"kwh_diff\"] < 0))|\n",
    "                        ((cleaned_df[\"perc_diff\"] == 0) & (cleaned_df[\"kwh_diff\"] == 0))]\n",
    "\n",
    "# off road: not on a a trip (only this relevant to find charging stations)\n",
    "# on road: on a trip (driving)\n",
    "off_road_df = cleaned_df[cleaned_df['continuous'] == 1][cleaned_df['start_engine'] == 1]\n",
    "on_road_df = cleaned_df[cleaned_df['continuous'] == 1][cleaned_df['start_engine'] == 0]"
   ]
  },
  {
   "cell_type": "code",
   "execution_count": 3,
   "metadata": {},
   "outputs": [],
   "source": [
    "# charging stations are based on 2 criteria\n",
    "# 1) no change in location (not moving) \n",
    "# 2) increase in soc_perc\n",
    "charging_df = off_road_df.copy()\n",
    "charging_df = charging_df[charging_df['loc_diff']==(0,0)]\n",
    "charging_df = charging_df[charging_df['perc_diff']>0]"
   ]
  },
  {
   "cell_type": "code",
   "execution_count": 4,
   "metadata": {},
   "outputs": [],
   "source": [
    "# get more information for further analysis\n",
    "report = charging_df.groupby(['loc']).agg({'time_diff(hrs)': ['median', 'max', 'sum'],\n",
    "                                         'perc_diff': ['median'],\n",
    "                                           'kwh_diff': ['median', 'sum'],\n",
    "                                         'vehicle_type': pd.Series.nunique,\n",
    "                                         'avg_charging(kwh/hrs)': ['median','count'],\n",
    "                                         'vin': pd.Series.nunique}).sort_values(by=('vin', 'nunique'),\n",
    "                                                                                ascending=True)\n",
    "report[\"usage/person\"] = report[('avg_charging(kwh/hrs)', 'count')] / report[('vin', 'nunique')]\n",
    "report = report.reset_index()"
   ]
  },
  {
   "cell_type": "code",
   "execution_count": null,
   "metadata": {},
   "outputs": [],
   "source": [
    "report"
   ]
  },
  {
   "cell_type": "code",
   "execution_count": 5,
   "metadata": {},
   "outputs": [],
   "source": [
    "# identifying charging stations based on 2 criteria:\n",
    "# 1) average kwh difference > 1\n",
    "# 2) average charging speed per hour > 1\n",
    "cleaned_report = report.copy()\n",
    "cleaned_report['avg_kwh_diff'] = cleaned_report[('kwh_diff', 'sum')] / cleaned_report[('avg_charging(kwh/hrs)', 'count')]\n",
    "cleaned_report = cleaned_report[cleaned_report['avg_kwh_diff'] > 1]\n",
    "cleaned_report = cleaned_report[cleaned_report[('avg_charging(kwh/hrs)', 'median')] > 1]"
   ]
  },
  {
   "cell_type": "code",
   "execution_count": null,
   "metadata": {},
   "outputs": [],
   "source": [
    "cleaned_report"
   ]
  },
  {
   "cell_type": "code",
   "execution_count": 6,
   "metadata": {},
   "outputs": [],
   "source": [
    "# distinguish between public and private\n",
    "# private stations based on 2 criteria:\n",
    "# 1) the occurrence of charging event > 2, otherwise too little information\n",
    "# 2) charging event per person > 1\n",
    "private_report = cleaned_report.copy()\n",
    "private_report = private_report[private_report[('avg_charging(kwh/hrs)', 'count')] > 2]\n",
    "private_report = private_report[private_report['usage/person'] > 1]"
   ]
  },
  {
   "cell_type": "code",
   "execution_count": null,
   "metadata": {},
   "outputs": [],
   "source": [
    "private_report"
   ]
  },
  {
   "cell_type": "code",
   "execution_count": 7,
   "metadata": {},
   "outputs": [
    {
     "data": {
      "text/plain": [
       "(0.0, 100.0)"
      ]
     },
     "execution_count": 7,
     "metadata": {},
     "output_type": "execute_result"
    },
    {
     "data": {
      "image/png": "[encoded data removed]",
      "text/plain": [
       "<Figure size 432x288 with 1 Axes>"
      ]
     },
     "metadata": {
      "needs_background": "light"
     },
     "output_type": "display_data"
    }
   ],
   "source": [
    "# more information on data cleansing\n",
    "# before\n",
    "plt.scatter(df['start_soc_perc'], df['start_soc_kwh'], color=\"blue\")\n",
    "plt.xlabel(\"start soc in perc\")\n",
    "plt.ylabel(\"start soc in kwh\")\n",
    "plt.title('Before Data Cleansing')\n",
    "plt.xlim(0, 100)"
   ]
  },
  {
   "cell_type": "code",
   "execution_count": 8,
   "metadata": {},
   "outputs": [
    {
     "data": {
      "text/plain": [
       "(0.0, 100.0)"
      ]
     },
     "execution_count": 8,
     "metadata": {},
     "output_type": "execute_result"
    },
    {
     "data": {
      "image/png": "[encoded data removed]",
      "text/plain": [
       "<Figure size 432x288 with 1 Axes>"
      ]
     },
     "metadata": {
      "needs_background": "light"
     },
     "output_type": "display_data"
    }
   ],
   "source": [
    "# after (only focus on charging stations one)\n",
    "vehicle_type_color = {'PHEV': 'red', 'BEV': \"blue\"}\n",
    "classes = ['PHEV', 'BEV']\n",
    "for vt, c in vehicle_type_color.items():\n",
    "    df_sel = charging_df[charging_df[\"vehicle_type\"]==vt]\n",
    "    plt.scatter(df_sel['soc_perc'], df_sel['soc_kwh'], color=c)\n",
    "plt.xlabel(\"soc in perc\")\n",
    "plt.ylabel(\"soc in kwh\")\n",
    "plt.title('After Data Cleansing')\n",
    "plt.legend(labels=classes)\n",
    "plt.xlim(0, 100)"
   ]
  },
  {
   "cell_type": "code",
   "execution_count": null,
   "metadata": {},
   "outputs": [],
   "source": [
    "# difference between PHEV and BEV statistics\n",
    "# compare duration of time and charging speed\n",
    "report2 = charging_df.groupby(['vehicle_type']).agg({'time_diff(hrs)': ['median'],\n",
    "                                         'perc_diff': ['median'],\n",
    "                                        'kwh_diff': ['median', 'sum'],\n",
    "                                         'avg_charging(kwh/hrs)': ['median'],\n",
    "                                         'vin': pd.Series.nunique}).sort_values(by=('vin', 'nunique'),\n",
    "                                                                                ascending=True)\n",
    "report2"
   ]
  },
  {
   "cell_type": "code",
   "execution_count": null,
   "metadata": {},
   "outputs": [],
   "source": []
  }
 ],
 "metadata": {
  "kernelspec": {
   "display_name": "Python 3 (ipykernel)",
   "language": "python",
   "name": "python3"
  },
  "language_info": {
   "codemirror_mode": {
    "name": "ipython",
    "version": 3
   },
   "file_extension": ".py",
   "mimetype": "text/x-python",
   "name": "python",
   "nbconvert_exporter": "python",
   "pygments_lexer": "ipython3",
   "version": "3.8.7"
  }
 },
 "nbformat": 4,
 "nbformat_minor": 2
}
